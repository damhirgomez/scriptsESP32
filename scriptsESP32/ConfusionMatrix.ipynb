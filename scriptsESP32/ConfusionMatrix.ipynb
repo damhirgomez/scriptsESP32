{
 "cells": [
  {
   "cell_type": "code",
   "execution_count": 25,
   "metadata": {},
   "outputs": [
    {
     "ename": "ValueError",
     "evalue": "Classification metrics can't handle a mix of unknown and multiclass targets",
     "output_type": "error",
     "traceback": [
      "\u001b[1;31m---------------------------------------------------------------------------\u001b[0m",
      "\u001b[1;31mValueError\u001b[0m                                Traceback (most recent call last)",
      "Cell \u001b[1;32mIn[25], line 40\u001b[0m\n\u001b[0;32m     31\u001b[0m path \u001b[39m=\u001b[39m \u001b[39m'\u001b[39m\u001b[39mD:/SciprtPythonXiao/Ventanas/\u001b[39m\u001b[39m'\u001b[39m\n\u001b[0;32m     33\u001b[0m \u001b[39m# Obtener una lista de todos los DataFrames contenidos en los archivos XLSX del directorio\u001b[39;00m\n\u001b[0;32m     34\u001b[0m \u001b[39m#dfs = xlsx_reader.read_xlsx_files()\u001b[39;00m\n\u001b[0;32m     35\u001b[0m \n\u001b[1;32m   (...)\u001b[0m\n\u001b[0;32m     38\u001b[0m \n\u001b[0;32m     39\u001b[0m \u001b[39m# Generar la matriz de confusión correspondiente al DataFrame seleccionado\u001b[39;00m\n\u001b[1;32m---> 40\u001b[0m cm \u001b[39m=\u001b[39m xlsx_reader\u001b[39m.\u001b[39;49mgenerate_confusion_matrix()\n",
      "Cell \u001b[1;32mIn[25], line 26\u001b[0m, in \u001b[0;36mXLSXReader.generate_confusion_matrix\u001b[1;34m(self)\u001b[0m\n\u001b[0;32m     24\u001b[0m y_true \u001b[39m=\u001b[39m df\u001b[39m.\u001b[39miloc[:, \u001b[39m1\u001b[39m] \u001b[39m# Columna 2: Valores teóricos\u001b[39;00m\n\u001b[0;32m     25\u001b[0m y_pred \u001b[39m=\u001b[39m df\u001b[39m.\u001b[39miloc[:, \u001b[39m8\u001b[39m] \u001b[39m# Columna 9: Valores de predicción\u001b[39;00m\n\u001b[1;32m---> 26\u001b[0m cm \u001b[39m=\u001b[39m confusion_matrix(y_true, y_pred)\n\u001b[0;32m     27\u001b[0m \u001b[39mreturn\u001b[39;00m cm\n",
      "File \u001b[1;32m~\\AppData\\Local\\Packages\\PythonSoftwareFoundation.Python.3.10_qbz5n2kfra8p0\\LocalCache\\local-packages\\Python310\\site-packages\\sklearn\\metrics\\_classification.py:317\u001b[0m, in \u001b[0;36mconfusion_matrix\u001b[1;34m(y_true, y_pred, labels, sample_weight, normalize)\u001b[0m\n\u001b[0;32m    232\u001b[0m \u001b[39mdef\u001b[39;00m \u001b[39mconfusion_matrix\u001b[39m(\n\u001b[0;32m    233\u001b[0m     y_true, y_pred, \u001b[39m*\u001b[39m, labels\u001b[39m=\u001b[39m\u001b[39mNone\u001b[39;00m, sample_weight\u001b[39m=\u001b[39m\u001b[39mNone\u001b[39;00m, normalize\u001b[39m=\u001b[39m\u001b[39mNone\u001b[39;00m\n\u001b[0;32m    234\u001b[0m ):\n\u001b[0;32m    235\u001b[0m \u001b[39m    \u001b[39m\u001b[39m\"\"\"Compute confusion matrix to evaluate the accuracy of a classification.\u001b[39;00m\n\u001b[0;32m    236\u001b[0m \n\u001b[0;32m    237\u001b[0m \u001b[39m    By definition a confusion matrix :math:`C` is such that :math:`C_{i, j}`\u001b[39;00m\n\u001b[1;32m   (...)\u001b[0m\n\u001b[0;32m    315\u001b[0m \u001b[39m    (0, 2, 1, 1)\u001b[39;00m\n\u001b[0;32m    316\u001b[0m \u001b[39m    \"\"\"\u001b[39;00m\n\u001b[1;32m--> 317\u001b[0m     y_type, y_true, y_pred \u001b[39m=\u001b[39m _check_targets(y_true, y_pred)\n\u001b[0;32m    318\u001b[0m     \u001b[39mif\u001b[39;00m y_type \u001b[39mnot\u001b[39;00m \u001b[39min\u001b[39;00m (\u001b[39m\"\u001b[39m\u001b[39mbinary\u001b[39m\u001b[39m\"\u001b[39m, \u001b[39m\"\u001b[39m\u001b[39mmulticlass\u001b[39m\u001b[39m\"\u001b[39m):\n\u001b[0;32m    319\u001b[0m         \u001b[39mraise\u001b[39;00m \u001b[39mValueError\u001b[39;00m(\u001b[39m\"\u001b[39m\u001b[39m%s\u001b[39;00m\u001b[39m is not supported\u001b[39m\u001b[39m\"\u001b[39m \u001b[39m%\u001b[39m y_type)\n",
      "File \u001b[1;32m~\\AppData\\Local\\Packages\\PythonSoftwareFoundation.Python.3.10_qbz5n2kfra8p0\\LocalCache\\local-packages\\Python310\\site-packages\\sklearn\\metrics\\_classification.py:95\u001b[0m, in \u001b[0;36m_check_targets\u001b[1;34m(y_true, y_pred)\u001b[0m\n\u001b[0;32m     92\u001b[0m     y_type \u001b[39m=\u001b[39m {\u001b[39m\"\u001b[39m\u001b[39mmulticlass\u001b[39m\u001b[39m\"\u001b[39m}\n\u001b[0;32m     94\u001b[0m \u001b[39mif\u001b[39;00m \u001b[39mlen\u001b[39m(y_type) \u001b[39m>\u001b[39m \u001b[39m1\u001b[39m:\n\u001b[1;32m---> 95\u001b[0m     \u001b[39mraise\u001b[39;00m \u001b[39mValueError\u001b[39;00m(\n\u001b[0;32m     96\u001b[0m         \u001b[39m\"\u001b[39m\u001b[39mClassification metrics can\u001b[39m\u001b[39m'\u001b[39m\u001b[39mt handle a mix of \u001b[39m\u001b[39m{0}\u001b[39;00m\u001b[39m and \u001b[39m\u001b[39m{1}\u001b[39;00m\u001b[39m targets\u001b[39m\u001b[39m\"\u001b[39m\u001b[39m.\u001b[39mformat(\n\u001b[0;32m     97\u001b[0m             type_true, type_pred\n\u001b[0;32m     98\u001b[0m         )\n\u001b[0;32m     99\u001b[0m     )\n\u001b[0;32m    101\u001b[0m \u001b[39m# We can't have more than one value on y_type => The set is no more needed\u001b[39;00m\n\u001b[0;32m    102\u001b[0m y_type \u001b[39m=\u001b[39m y_type\u001b[39m.\u001b[39mpop()\n",
      "\u001b[1;31mValueError\u001b[0m: Classification metrics can't handle a mix of unknown and multiclass targets"
     ]
    }
   ],
   "source": [
    "import os\n",
    "import pandas as pd\n",
    "import matplotlib.pyplot as plt\n",
    "from sklearn.metrics import confusion_matrix\n",
    "import numpy as np\n",
    "\n",
    "class XLSXReader:\n",
    "    def __init__(self, directory_path):\n",
    "        self.directory_path = directory_path\n",
    "\n",
    "    def read_xlsx_files(self):\n",
    "        dfs = []\n",
    "        for file_name in os.listdir(self.directory_path):\n",
    "            if file_name.endswith('.xlsx'):\n",
    "                file_path = os.path.join(self.directory_path, file_name)\n",
    "                df = pd.read_excel(file_path, header=None)\n",
    "                dfs.append(df)\n",
    "        return dfs   \n",
    "\n",
    "    def generate_confusion_matrix(self):\n",
    "        dfs = self.read_xlsx_files()\n",
    "        df = dfs[0]\n",
    "        df = df.iloc[4:, :] # Omitir las filas de la 1 a la 3 en todas las columnas\n",
    "        y_true = df.iloc[:, 1] # Columna 2: Valores teóricos\n",
    "        y_pred = df.iloc[:, 8] # Columna 9: Valores de predicción\n",
    "        cm = confusion_matrix(y_true, y_pred)\n",
    "        return cm\n",
    "\n",
    "# Instanciar la clase XLSXReader con la ruta del directorio que contiene el archivo XLSX\n",
    "xlsx_reader = XLSXReader('D:/SciprtPythonXiao/Ventanas/')\n",
    "path = 'D:/SciprtPythonXiao/Ventanas/'\n",
    "\n",
    "# Obtener una lista de todos los DataFrames contenidos en los archivos XLSX del directorio\n",
    "#dfs = xlsx_reader.read_xlsx_files()\n",
    "\n",
    "# Seleccionar el DataFrame correspondiente al archivo XLSX que deseas analizar\n",
    "#print(dfs) # Por ejemplo, el primer DataFrame de la lista\n",
    "\n",
    "# Generar la matriz de confusión correspondiente al DataFrame seleccionado\n",
    "cm = xlsx_reader.generate_confusion_matrix()\n"
   ]
  }
 ],
 "metadata": {
  "kernelspec": {
   "display_name": "Python 3",
   "language": "python",
   "name": "python3"
  },
  "language_info": {
   "codemirror_mode": {
    "name": "ipython",
    "version": 3
   },
   "file_extension": ".py",
   "mimetype": "text/x-python",
   "name": "python",
   "nbconvert_exporter": "python",
   "pygments_lexer": "ipython3",
   "version": "3.10.11"
  },
  "orig_nbformat": 4
 },
 "nbformat": 4,
 "nbformat_minor": 2
}
